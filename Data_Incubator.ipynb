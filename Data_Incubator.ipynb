{
 "cells": [
  {
   "cell_type": "markdown",
   "metadata": {},
   "source": [
    "### Klaviyo Exercise\n",
    "In order to remove bias, we have anonymized this step of the interview process. \n",
    "\n",
    " * **Please do not deanonymize yourself in this jupyter notebook**.\n",
    " * **Please write your code and solutions in this notebook and return it to us when you are finished**."
   ]
  },
  {
   "cell_type": "markdown",
   "metadata": {},
   "source": [
    "### Interpreting the Dataset\n",
    "In these exercises, you will work with sales data from a marketplace with several stores.  The attached CSV file lists the customer, date, and dollar value of orders placed in 2017. Assume that there is only one product in each order. The store ID and product ID are also included for each ordered product. The gender of each customer is also provided. Please do not exclude $0 orders.\n",
    "\n",
    "### Exercise 1\n",
    "Assemble a dataframe with one row per customer and the following columns:\n",
    "* customer_id \n",
    "* gender\n",
    "* most_recent_order_date \n",
    "* order_count (number of orders placed by this customer)\n",
    "\n",
    "Sort the dataframe by customer_id ascending and display the first 10 rows."
   ]
  },
  {
   "cell_type": "code",
   "execution_count": 37,
   "metadata": {},
   "outputs": [
    {
     "name": "stdout",
     "output_type": "stream",
     "text": [
      "[1.0, 1.5, 2.0, 35.759]\n",
      "[0, 0.7071067811865476, 1.0, 67.52293677460028]\n",
      "[0, 1, 4, 239.0]\n"
     ]
    }
   ],
   "source": [
    "import numpy as np\n",
    "import pandas as pd\n",
    "pd.set_option('display.float_format', lambda x: '%.4f' % x)\n",
    "import seaborn as sns\n",
    "sns.set_context(\"paper\", font_scale=1.3)\n",
    "sns.set_style('white')\n",
    "from scipy import stats\n",
    "import math \n",
    "import sklearn\n",
    "from sklearn.model_selection import train_test_split\n",
    "import tensorflow\n",
    "import keras\n",
    "import math\n",
    "import datetime\n",
    "import csv\n",
    "from keras.models import Sequential\n",
    "from keras.layers import Dense\n",
    "from keras.layers import LSTM\n",
    "from keras.layers import Dropout\n",
    "from keras.callbacks import EarlyStopping\n",
    "import matplotlib\n",
    "from keras.layers import *\n",
    "from sklearn.preprocessing import MinMaxScaler\n",
    "from sklearn.metrics import mean_squared_error\n",
    "from sklearn.metrics import mean_absolute_error\n",
    "from keras.callbacks import EarlyStopping\n",
    "from sklearn.linear_model import LogisticRegression\n",
    "from sklearn.linear_model import LinearRegression\n",
    "from sklearn.naive_bayes import GaussianNB\n",
    "import matplotlib.pyplot as plt\n",
    "from matplotlib.pylab import rcParams\n",
    "from numpy import loadtxt\n",
    "from keras.layers import Dense\n",
    "from sklearn.metrics import r2_score , mean_absolute_error, mean_squared_error\n",
    "from sklearn import preprocessing\n",
    "from sklearn.preprocessing import MinMaxScaler\n",
    "from sklearn.preprocessing import scale\n",
    "from sklearn.preprocessing import StandardScaler\n",
    "from sklearn.tree import DecisionTreeClassifier\n",
    "from sklearn.tree import DecisionTreeRegressor\n",
    "from PIL import Image\n",
    "import pyabf\n",
    "import textwrap\n",
    "import itertools\n",
    "import collections\n",
    "from sklearn.impute import SimpleImputer\n",
    "from statsmodels.tsa.seasonal import seasonal_decompose \n",
    "from pmdarima import auto_arima\n",
    "from queue import Queue\n",
    "from collections import OrderedDict\n",
    "from statsmodels.graphics.tsaplots import plot_acf\n",
    "from sklearn.metrics.pairwise import cosine_similarity\n",
    "from sklearn.feature_extraction.text import CountVectorizer\n",
    "from nltk.tokenize import word_tokenize\n",
    "from sklearn.feature_extraction.text import TfidfVectorizer\n",
    "import string\n",
    "import sys\n",
    "import itertools\n",
    "import re\n",
    "import nltk\n",
    "from sklearn.datasets import load_digits\n",
    "import operator\n",
    "from sklearn.datasets import load_iris\n",
    "from sklearn.preprocessing import LabelEncoder \n",
    "from math import sqrt\n",
    "from sklearn.neighbors import KNeighborsClassifier\n",
    "from sklearn.metrics import confusion_matrix, accuracy_score\n",
    "from sklearn.model_selection import cross_val_score\n",
    "from struct import unpack\n",
    "import random\n",
    "import mysql.connector\n",
    "from nltk.stem import PorterStemmer \n",
    "from collections import defaultdict\n",
    "from keras.datasets import mnist\n",
    "from keras.models import Sequential\n",
    "from keras.layers import Dense\n",
    "from keras.layers import Dropout\n",
    "from keras.utils import np_utils\n",
    "from keras.layers import Dense,LSTM\n",
    "import matplotlib.pyplot as plt\n",
    "import matplotlib.dates as mdates\n",
    "%matplotlib inline\n",
    "import datetime\n",
    "import sys\n",
    "import statistics\n",
    "from collections import deque\n",
    "from itertools import islice\n",
    "from bisect import insort\n",
    "from bisect import bisect_left\n",
    "\n",
    "### below code is for readin the inputs from the stdin and providing the output to a_list to provide a solution as it is easy to read input from a list ###\n",
    "import sys\n",
    "\n",
    "a_list = []\n",
    "for line in sys.stdin:\n",
    "\ta_list.append.line()\n",
    "\n",
    "\n",
    "## following code is the form of different functions in a class for all mean,standard deviation, and median the results are exactly not a match for the results given but they are close to the following####\n",
    "\n",
    "class statitics():\n",
    "\n",
    "    def __init__(self,a_list=None):\n",
    "        self.n = 0\n",
    "        self.M = 0\n",
    "        self.S = 0\n",
    "\n",
    "    def update(self,x):\n",
    "        self.n += 1\n",
    "\n",
    "        newM = self.M + (x - self.M) / self.n\n",
    "        newS = self.S + (x - self.M) * (x - newM)\n",
    "\n",
    "        self.M = newM\n",
    "        self.S = newS\n",
    "\n",
    "    @property\n",
    "    def mean(self):\n",
    "        return self.M\n",
    "\n",
    "    @property\n",
    "    def std(self):\n",
    "        if self.n == 1:\n",
    "            return 0\n",
    "        return math.sqrt(self.S / (self.n - 1))\n",
    "    \n",
    "    @property\n",
    "    def median(self):\n",
    "        if self.n //2 == 0:\n",
    "            return x * self.n//2\n",
    "        else:\n",
    "            return (x * ((self.n - 1))//2 + x * ((self.n + 1)//2))//2\n",
    "\n",
    "a_list = [1,2,3,137.036]\n",
    "w = statitics()\n",
    "\n",
    "running_mean = []\n",
    "running_std = []\n",
    "running_median = []\n",
    "\n",
    "for x in a_list:\n",
    "    w.update(x)\n",
    "    running_mean.append(w.mean)\n",
    "    running_std.append(w.std)\n",
    "    running_median.append(w.median)\n",
    "    \n",
    "print(running_mean)\n",
    "print(running_std)\n",
    "print(running_median)\n",
    "\n",
    "\n",
    "\n",
    "\n",
    "\n",
    "\n",
    "\n",
    "\n",
    "\n",
    "\n",
    "\n",
    "\n",
    "\n",
    "\n",
    "\n"
   ]
  },
  {
   "cell_type": "markdown",
   "metadata": {},
   "source": [
    "### Exercise 2\n",
    "Plot the total order count for the marketplace by week. Do not use plotly, as plotly graphs in Jupyter Notebooks don't render correctly on different machines."
   ]
  },
  {
   "cell_type": "code",
   "execution_count": 47,
   "metadata": {},
   "outputs": [
    {
     "data": {
      "image/png": "[encoded data removed]",
      "text/plain": [
       "<Figure size 432x288 with 1 Axes>"
      ]
     },
     "metadata": {
      "needs_background": "light"
     },
     "output_type": "display_data"
    }
   ],
   "source": []
  },
  {
   "cell_type": "markdown",
   "metadata": {},
   "source": [
    "### Exercise 3\n",
    "\n",
    "Compute the mean order value for gender 0 and for gender 1. Do you think the difference is significant? \n",
    "\n",
    "**Justify your choice of method and state any assumptions you make**."
   ]
  },
  {
   "cell_type": "code",
   "execution_count": 25,
   "metadata": {},
   "outputs": [
    {
     "name": "stdout",
     "output_type": "stream",
     "text": [
      "462.59273386174374\n"
     ]
    }
   ],
   "source": []
  },
  {
   "cell_type": "markdown",
   "metadata": {},
   "source": [
    "### Exercise 4\n",
    "\n",
    "Suppose that some of our customers told us that they believe red products are more eye-catching and therefore easier to sell. Based on the dataset provided, would you suggest that companies should color more of their products red? Why or why not and what other factors could be important to determine this? \n",
    "\n",
    "**Please justify your answer and state any assumptions you make.**"
   ]
  },
  {
   "cell_type": "code",
   "execution_count": 55,
   "metadata": {},
   "outputs": [
    {
     "name": "stderr",
     "output_type": "stream",
     "text": [
      "C:\\Users\\reliance\\anaconda3\\lib\\site-packages\\ipykernel_launcher.py:7: SettingWithCopyWarning: \n",
      "A value is trying to be set on a copy of a slice from a DataFrame.\n",
      "Try using .loc[row_indexer,col_indexer] = value instead\n",
      "\n",
      "See the caveats in the documentation: https://pandas.pydata.org/pandas-docs/stable/user_guide/indexing.html#returning-a-view-versus-a-copy\n",
      "  import sys\n"
     ]
    },
    {
     "name": "stdout",
     "output_type": "stream",
     "text": [
      "            customer_id  gender  product_value  store_id  product_id  \\\n",
      "date                                                                   \n",
      "1970-01-31     37921786    3752   3536899.4508     25542     2925472   \n",
      "\n",
      "            product_is_red  count  \n",
      "date                               \n",
      "1970-01-31       7567.0000   7567  \n"
     ]
    },
    {
     "name": "stderr",
     "output_type": "stream",
     "text": [
      "C:\\Users\\reliance\\anaconda3\\lib\\site-packages\\ipykernel_launcher.py:9: SettingWithCopyWarning: \n",
      "A value is trying to be set on a copy of a slice from a DataFrame.\n",
      "Try using .loc[row_indexer,col_indexer] = value instead\n",
      "\n",
      "See the caveats in the documentation: https://pandas.pydata.org/pandas-docs/stable/user_guide/indexing.html#returning-a-view-versus-a-copy\n",
      "  if __name__ == '__main__':\n"
     ]
    }
   ],
   "source": []
  },
  {
   "cell_type": "markdown",
   "metadata": {},
   "source": [
    "### Exercise 5\n",
    "\n",
    "Describe one of your favorite tools or techniques and give a small example of how it has helped you solve a problem. Limit your answer to one short paragraph, and please be specific. \n",
    "\n",
    "i believe breaking the data into smaller parts according to the problem asked is always benefecial as once we have smaller amount of data processing is fast and thus your deduction can be on multiple assumptions to give us a better insight of data and even if we have to fetch some valuable imformation smaller dataset is benefecial in the following."
   ]
  }
 ],
 "metadata": {
  "kernelspec": {
   "display_name": "Python 3",
   "language": "python",
   "name": "python3"
  },
  "language_info": {
   "codemirror_mode": {
    "name": "ipython",
    "version": 3
   },
   "file_extension": ".py",
   "mimetype": "text/x-python",
   "name": "python",
   "nbconvert_exporter": "python",
   "pygments_lexer": "ipython3",
   "version": "3.7.6"
  }
 },
 "nbformat": 4,
 "nbformat_minor": 2
}
